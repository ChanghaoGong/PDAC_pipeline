

###
 # @Description: 
 # @Author: gongchanghao
 # @Date: 2023-06-12 17:15:22
 # @LastEditTime: 2023-10-17 15:21:11
 # @LastEditors: gongchanghao
 # @E-mail: gongchanghao@genomics.cn
 # @FilePath: /gongchanghao/script/spatial_pipeline/bin/cellbin_pipeline_v2/9.T_Cell/9.5_T_Cell_region_nichenet.R
 ###
library(nichenetr)
library(tidyverse)
library(circlize)
library(Seurat)
library(Matrix)
library(Cairo)
options(bitmapType = "cairo")
# od <- "/jdfsbjcas1/ST_BJ/P21H28400N0232/gongchanghao/project/PDAC/spatial/cellbin_v2/SS200000148TR_D1/merge_bin1_cluster/Tumor_CAF"
args <- commandArgs(trailingOnly = TRUE)
mode <- args[1]
regions_str <- args[2]
regions_str <- 'ADM_region_1-ADM_region_2-ADM_region_3-ADM_region_4'
regions_str <- 'ADR1-ADR2-ADR3-ADR4'
regions  <- strsplit(regions_str,split = "-") %>% unlist()
# regions  <- c('Tumor_Cell_region_2','Tumor_around_region_1')
Epi_Celltype <- c("Tumor_Cell","Duct_like_Cell","Duct_Cell")
CAF_Celltype <- c("Fibroblast_Cell")
Immune_Celltype <- c("Macrophage_Cell","Plasma_Cell","T/NK_Cell","B_Cell")
All_celltype <- c("Tumor_Cell","Duct_like_Cell","Duct_Cell","Acinar_Cell","Fibroblast_Cell","PVL_Cell","Macrophage_Cell","Plasma_Cell","T/NK_Cell","B_Cell")

if(mode == 'Tumor'){
  receiver = Epi_Celltype
  sender_celltypes = c("Fibroblast_Cell","PVL_Cell","Macrophage_Cell","Plasma_Cell","T/NK_Cell","Mast_Cell","B_Cell")
}else if(mode == 'CAF'){
  receiver = CAF_Celltype
  sender_celltypes = c("Tumor_Cell","Duct_like_Cell","Macrophage_Cell","Plasma_Cell","T/NK_Cell","Mast_Cell","B_Cell")
}else if(mode == 'Macro'){
  receiver = "Macrophage_Cell"
  sender_celltypes = c("Tumor_Cell","Duct_like_Cell","Fibroblast_Cell","PVL_Cell")
}else if(mode == 'TNK'){
    receiver = "T/NK_Cell"
    sender_celltypes = c("Tumor_Cell","Duct_like_Cell","Fibroblast_Cell","Macrophage_Cell")
}else if (mode == 'B'){
  receiver = c("B_Cell","Plasma_Cell")
  sender_celltypes = c("Tumor_Cell","Duct_like_Cell","Fibroblast_Cell","PVL_Cell","Macrophage_Cell")
}
# receiver = c("Tumor_Cell","Duct_like_Cell")
# sender_celltypes = c("Fibroblast_Cell","PVL_Cell","Macrophage_Cell","Plasma_Cell","T/NK_Cell","Mast_Cell","B_Cell")
# join regions as prefix
prefix <- paste(mode,paste0(regions, collapse = "_"),sep= '-')
source("/jdfsbjcas1/ST_BJ/P21H28400N0232/gongchanghao/script/wangdi_code/SelfFunctions/colors.R")
wd <- sprintf("/jdfsbjcas1/ST_BJ/P21H28400N0232/gongchanghao/project/PDAC/spatial/cellbin_v3/9.5_Tcell_region_nichenet/%s",prefix)
dir.create(wd, recursive = TRUE, showWarnings = FALSE)
setwd(wd)
seurat_obj_all <- readRDS('/jdfsbjcas1/ST_BJ/P21H28400N0232/gongchanghao/project/PDAC/spatial/cellbin_v3/2.1_merge_big_cell_community/all_merged_adata.rds')
seurat_obj <- seurat_obj_all[, seurat_obj_all$celltype %in% All_celltype]
seurat_obj <- NormalizeData(seurat_obj, assay = "Spatial", verbose = FALSE)

region_map <- list(
    'ADM_region_1' = 'ADR1',
    'ADM_region_2' = 'ADR2',
    'ADM_region_3' = 'ADR3',
    'ADM_region_4' = 'ADR4',
    'Tumor_Cell_region_1' = 'TCR1',
    'Tumor_Cell_region_2' = 'TCR2',
    'Tumor_Cell_region_3' = 'TCR3',
    'Tumor_Cell_region_4' = 'TCR4',
    'Tumor_around_region_1' = 'TAR1',
    'Tumor_around_region_2' = 'TAR2',
    'Tumor_around_region_3' = 'TAR3',
    'Tumor_around_region_4' = 'TAR4',
    'Tumor_around_region_5' = 'TAR5',
    'Acinar_Cell_region' = 'ACR',
    'Immune_Cell_region' = 'ICR',
    'Mesenchymal_Cell_region_1' = 'MCR1',
    'Mesenchymal_Cell_region_2' = 'MCR2',
    'Mesenchymal_Cell_region_3' = 'MCR3'
)
Idents(seurat_obj) <- seurat_obj$community_type
seurat_obj <- RenameIdents(seurat_obj, region_map)
seurat_obj$region <- Idents(seurat_obj)


ligand_target_matrix <- readRDS("/jdfsbjcas1/ST_BJ/P21H28400N0232/gongchanghao/database/nichenet/ligand_target_matrix_nsga2r_final.rds")
ligand_tf_matrix <- readRDS('/jdfsbjcas1/ST_BJ/P21H28400N0232/gongchanghao/database/nichenet/ligand_tf_matrix_nsga2r_final.rds')
lr_network = readRDS("/jdfsbjcas1/ST_BJ/P21H28400N0232/gongchanghao/database/nichenet/lr_network_human_21122021.rds")
sig_network = readRDS("/jdfsbjcas1/ST_BJ/P21H28400N0232/gongchanghao/database/nichenet/signaling_network_human_21122021.rds")
weighted_networks <- readRDS("/jdfsbjcas1/ST_BJ/P21H28400N0232/gongchanghao/database/nichenet/weighted_networks_nsga2r_final.rds")
weighted_networks_lr = weighted_networks$lr_sig %>% inner_join(lr_network %>% distinct(from,to), by = c("from","to"))

Idents(seurat_obj) <- seurat_obj$celltype
table(seurat_obj$celltype)

# 计算每个细胞类型的细胞数
celltype_counts <- table(seurat_obj$celltype)
# 获取细胞数大于等于20的细胞类型
celltype_to_keep <- names(celltype_counts[celltype_counts >= 10])
# 过滤细胞数大于等于20的细胞类型
seurat_obj <- subset(seurat_obj, subset = celltype %in% celltype_to_keep)

nichenet_output = nichenet_seuratobj_aggregate(
  seurat_obj = seurat_obj, 
  receiver = receiver, 
  condition_colname = "region", condition_oi = regions, condition_reference = c('TCR1','TCR2','TCR3','TCR4'), 
  sender = sender_celltypes, 
  ligand_target_matrix = ligand_target_matrix, lr_network = lr_network, weighted_networks = weighted_networks,
  top_n_ligands = 15,top_n_targets = 30)

# ligand aupr
ligand_aupr_matrix = nichenet_output$ligand_activities %>% select(aupr_corrected) %>% as.matrix() %>% magrittr::set_rownames(nichenet_output$ligand_activities$test_ligand)
rownames(ligand_aupr_matrix) = rownames(ligand_aupr_matrix) %>% make.names()
colnames(ligand_aupr_matrix) = colnames(ligand_aupr_matrix) %>% make.names()
order_ligands = rownames(nichenet_output$ligand_target_matrix)
vis_ligand_aupr = ligand_aupr_matrix[order_ligands, ] %>% as.matrix(ncol = 1) %>% magrittr::set_colnames("AUPR")
p_ligand_aupr = vis_ligand_aupr %>% make_heatmap_ggplot("Prioritized ligands","Ligand activity", color = "darkorange",legend_position = "top", x_axis_position = "top", legend_title = "AUPR\n(target gene prediction ability)") + theme(legend.text = element_text(size = 9))
# rotated_dotplot
rotated_dotplot = nichenet_output$ligand_expression_dotplot
# p_ligand_lfc
p_ligand_lfc = nichenet_output$ligand_differential_expression_heatmap
# p_ligand_target_network
p_ligand_target_network = nichenet_output$ligand_target_heatmap
# target dotplot
rotated_dotplot_target = DotPlot(seurat_obj %>% subset(celltype %in% receiver) %>% subset(region %in% c(regions,'TCR1','TCR2','TCR3','TCR4')), features = nichenet_output$top_targets, cols = "RdYlBu",group.by="region") + theme(legend.text = element_text(size = 12), legend.title = element_text(size = 12)) + theme(legend.position = "none", axis.ticks = element_blank(), axis.title.y = element_text(size = 12), axis.text.x = element_text(face = "italic", size = 12,angle = 90,hjust = 0),plot.margin = unit(c(0,-1,0,0), "cm")) + xlab("Expression in Target") + ylab("") + scale_y_discrete(position = "left")+ scale_x_discrete(position = "top")

figures_without_legend = cowplot::plot_grid(
    p_ligand_aupr + theme(legend.position = "none", axis.ticks = element_blank(), axis.title.x = element_blank(), axis.text.y = element_text(face = "italic", size = 12), axis.text.x = element_text(size = 12,  angle = 90,hjust = 0)),
    rotated_dotplot + theme(legend.position = "none", axis.ticks = element_blank(), axis.title.x = element_blank(), axis.text.y = element_text(face = "italic", size = 12), axis.text.x = element_text(size = 12,  angle = 90,hjust = 0),plot.margin = unit(c(0,0,0,0), "cm")) + ylab("Expression in Sender") + xlab("") + scale_y_discrete(position = "right"),
    p_ligand_lfc + theme(legend.position = "none", axis.ticks = element_blank(),axis.title.x = element_blank(), axis.text.y = element_text(face = "italic", size = 12), axis.text.x = element_text(size = 12,  angle = 90,hjust = 0),plot.margin = unit(c(0,0,0,0), "cm")) + ylab(""),
    p_ligand_target_network + theme(legend.position = "none", axis.ticks = element_blank(), axis.title.x = element_text(size = 12), axis.text.y = element_text(face = "italic", size = 12), axis.text.x = element_text(size = 12,  angle = 90,hjust = 0),plot.margin = unit(c(0,-1,0,0), "cm")) + ylab(""),
    NULL,
    NULL,
    NULL,
    rotated_dotplot_target,
    align = "hv",
    nrow = 2,
    rel_widths = c(1,1.2,1.2,5),
    rel_heights = c(2, 1)
    ) 
figures_without_legend    
legends = cowplot::plot_grid(
    ggpubr::as_ggplot(ggpubr::get_legend(p_ligand_aupr)),
    ggpubr::as_ggplot(ggpubr::get_legend(rotated_dotplot)),
    ggpubr::as_ggplot(ggpubr::get_legend(p_ligand_lfc)),
    ggpubr::as_ggplot(ggpubr::get_legend(p_ligand_target_network)),
    ggpubr::as_ggplot(ggpubr::get_legend(rotated_dotplot_target)),
    nrow = 1,
    align = "h", rel_widths = c(1,1,1,1,1))

combined_plot = cowplot::plot_grid(figures_without_legend, legends, rel_heights = c(5,1), nrow = 2, align = "hv") +
  theme(plot.margin = margin(0, 0, 0, 0))
pdf("combined_plot.pdf",width=50,height=12)
print(figures_without_legend )
dev.off()


pdf("ligand_receptor_heatmap.pdf",width=10,height=10)
print(nichenet_output$ligand_receptor_heatmap)
dev.off()
pdf("ligand_expression_dotplot.pdf",width=10,height=10)
print(nichenet_output$ligand_expression_dotplot+ theme(legend.position = "none", axis.ticks = element_blank(), axis.title.x = element_text(size = 12), axis.text.y = element_text(face = "italic", size = 9), axis.text.x = element_text(size = 9,  angle = 90,hjust = 0)) + ylab("Expression in Sender") + xlab("") + scale_y_discrete(position = "right"))
dev.off()
saveRDS(nichenet_output, "nichenet_output.rds")
# circos 图
avg_expression_ligands = AverageExpression(seurat_obj, features = nichenet_output$top_ligands)
sender_ligand_assignment = avg_expression_ligands$Spatial %>% apply(1, function(ligand_expression){
  ligand_expression > (ligand_expression %>% mean() + ligand_expression %>% sd())
  }) %>% t()
sender_ligand_assignment = sender_ligand_assignment %>% apply(2, function(x){x[x == TRUE]}) %>% purrr::keep(function(x){length(x) > 0})
names(sender_ligand_assignment)
# remove sender_ligand_assignment items start with 'Fibro_','NeurStem_','Stellate_'
# sender_ligand_assignment <- sender_ligand_assignment[!grepl('Fibro_|Stellate_',names(sender_ligand_assignment))]

all_assigned_ligands = sender_ligand_assignment %>% lapply(function(x){names(x)}) %>% unlist()
unique_ligands = all_assigned_ligands %>% table() %>% .[. == 1] %>% names()
general_ligands = nichenet_output$top_ligands %>% setdiff(unique_ligands)

ligands_list <- list()
for(celltype in names(sender_ligand_assignment)){
    ligands = sender_ligand_assignment[[celltype]] %>% names()%>% setdiff(general_ligands)
    if(length(ligands) > 0){
        ligands_list[[celltype]] = ligands
    }
}
ligands_list[['General']] = general_ligands
ligand_type_indication_df <- stack(ligands_list)
colnames(ligand_type_indication_df) <- c('ligand','ligand_type')

active_ligand_target_links_df = nichenet_output$ligand_target_df %>% mutate(target_type = "Tumor_region") %>% inner_join(ligand_type_indication_df) # if you want ot make circos plots for multiple gene sets, combine the different data frames and differentiate which target belongs to which gene set via the target type
cutoff_include_all_ligands = active_ligand_target_links_df$weight %>% quantile(0.40)

active_ligand_target_links_df_circos = active_ligand_target_links_df %>% filter(weight > cutoff_include_all_ligands)

ligands_to_remove = setdiff(active_ligand_target_links_df$ligand %>% unique(), active_ligand_target_links_df_circos$ligand %>% unique())
targets_to_remove = setdiff(active_ligand_target_links_df$target %>% unique(), active_ligand_target_links_df_circos$target %>% unique())
  
circos_links = active_ligand_target_links_df %>% filter(!target %in% targets_to_remove &!ligand %in% ligands_to_remove)

grid_col_ligand = getDefaultColors(length(ligands_list),type=7)
names(grid_col_ligand) = ligands_list %>% names()
grid_col_target =c(
            "Tumor_region" = "tomato")

grid_col_tbl_ligand = tibble(ligand_type = grid_col_ligand %>% names(), color_ligand_type = grid_col_ligand)
grid_col_tbl_target = tibble(target_type = grid_col_target %>% names(), color_target_type = grid_col_target)

circos_links = circos_links %>% mutate(ligand = paste(ligand," ")) # extra space: make a difference between a gene as ligand and a gene as target!
circos_links = circos_links %>% inner_join(grid_col_tbl_ligand) %>% inner_join(grid_col_tbl_target)
links_circle = circos_links %>% select(ligand,target, weight)

ligand_color = circos_links %>% distinct(ligand,color_ligand_type)
grid_ligand_color = ligand_color$color_ligand_type %>% set_names(ligand_color$ligand)
target_color = circos_links %>% distinct(target,color_target_type)
grid_target_color = target_color$color_target_type %>% set_names(target_color$target)

grid_col =c(grid_ligand_color,grid_target_color)

# give the option that links in the circos plot will be transparant ~ ligand-target potential score
transparency = circos_links %>% mutate(weight =(weight-min(weight))/(max(weight)-min(weight))) %>% mutate(transparency = 1-weight) %>% .$transparency 

target_order = circos_links$target %>% unique()
ligand_order = c(ligand_type_indication_df$ligand) %>% c(paste(.," ")) %>% intersect(circos_links$ligand)
order = c(ligand_order,target_order)


width_same_cell_same_ligand_type = 0.5
width_different_cell = 6
width_ligand_target = 15
width_same_cell_same_target_type = 0.5
pdf("ligand_target_circos.pdf", width = 15, height = 15)
circos.par(gap.degree = 0.5)
chordDiagram(links_circle, directional = 1,order=order,link.sort = TRUE, link.decreasing = FALSE, grid.col = grid_col,transparency = 0, diffHeight = 0.005, direction.type = c("diffHeight", "arrows"),link.arr.type = "big.arrow", link.visible = links_circle$weight >= cutoff_include_all_ligands,annotationTrack = "grid", 
      preAllocateTracks = list(list(track.height = 0.025),
                             list(track.height = 0.2)))
# we go back to the first track and customize sector labels
circos.track(track.index = 2, panel.fun = function(x, y) {
    circos.text(CELL_META$xcenter, CELL_META$ylim[1], CELL_META$sector.index,
        facing = "clockwise", niceFacing = TRUE, adj = c(0, 0.55), cex = 0.8)
}, bg.border = NA)
for (ligand_group in unique(circos_links$ligand_type)){
  ligands = circos_links$ligand[circos_links$ligand_type == ligand_group]
  highlight.sector(ligands,
                   track.index = 1,
                 col = grid_col_ligand[[ligand_group]],
                 text = ligand_group,
                 cex = 0.8, facing="bending.inside", niceFacing = TRUE, text.vjust = "5mm")
}
circos.clear()
dev.off()

ligands_all = c("IFNG") # this can be a list of multiple ligands if required
targets_all = c("CXCL12")


active_signaling_network = get_ligand_signaling_path(ligand_tf_matrix = ligand_tf_matrix, ligands_all = ligands_all, targets_all = targets_all, weighted_networks = weighted_networks)

# For better visualization of edge weigths: normalize edge weights to make them comparable between signaling and gene regulatory interactions
active_signaling_network_min_max = active_signaling_network
active_signaling_network_min_max$sig = active_signaling_network_min_max$sig %>% mutate(weight = ((weight-min(weight))/(max(weight)-min(weight))) + 0.75)
active_signaling_network_min_max$gr = active_signaling_network_min_max$gr %>% mutate(weight = ((weight-min(weight))/(max(weight)-min(weight))) + 0.75)

graph_min_max = diagrammer_format_signaling_graph(signaling_graph_list = active_signaling_network_min_max, ligands_all = ligands_all, targets_all = targets_all, sig_color = "indianred", gr_color = "steelblue")

data_source_network = infer_supporting_datasources(signaling_graph_list = active_signaling_network,lr_network = lr_network, sig_network = sig_network, gr_network = gr_network)

output_path = "./"
write_output = TRUE # change to TRUE for writing output

# weighted networks ('import network' in Cytoscape)
if(write_output){
  bind_rows(active_signaling_network$sig %>% mutate(layer = "signaling"), active_signaling_network$gr %>% mutate(layer = "regulatory")) %>% write_tsv(paste0(output_path,"weighted_signaling_network.txt")) 
}

# networks with information of supporting data sources ('import network' in Cytoscape)
if(write_output){
data_source_network %>% write_tsv(paste0(output_path,"data_source_network.txt"))
}

# Node annotation table ('import table' in Cytoscape)
specific_annotation_tbl = bind_rows(
  tibble(gene = ligands_all, annotation = "ligand"),
  tibble(gene = targets_all, annotation = "target"),
  tibble(gene = c(data_source_network$from, data_source_network$to) %>% unique() %>% setdiff(c(targets_all,ligands_all)) %>% intersect(lr_network$to %>% unique()), annotation = "receptor"),
  tibble(gene = c(data_source_network$from, data_source_network$to) %>% unique() %>% setdiff(c(targets_all,ligands_all)) %>% intersect(gr_network$from %>% unique()) %>% setdiff(c(data_source_network$from, data_source_network$to) %>% unique() %>% intersect(lr_network$to %>% unique())),annotation = "transcriptional regulator")
)
non_specific_annotation_tbl = tibble(gene = c(data_source_network$from, data_source_network$to) %>% unique() %>% setdiff(specific_annotation_tbl$gene), annotation = "signaling mediator")

if(write_output){
bind_rows(specific_annotation_tbl,non_specific_annotation_tbl) %>% write_tsv(paste0(output_path,"annotation_table.txt"))
}



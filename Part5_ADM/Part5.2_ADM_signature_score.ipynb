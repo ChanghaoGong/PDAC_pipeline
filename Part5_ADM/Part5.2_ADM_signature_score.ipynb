{
 "cells": [
  {
   "cell_type": "code",
   "execution_count": 3,
   "metadata": {},
   "outputs": [
    {
     "data": {
      "text/plain": [
       "<scanpy._settings.ScanpyConfig at 0x7ff4236b10a0>"
      ]
     },
     "execution_count": 3,
     "metadata": {},
     "output_type": "execute_result"
    }
   ],
   "source": [
    "import os, sys\n",
    "import scanpy as sc\n",
    "import pandas as pd\n",
    "import numpy as np\n",
    "from pathlib import Path\n",
    "import matplotlib.pyplot as plt\n",
    "import matplotlib\n",
    "import seaborn as sns\n",
    "import matplotlib.cm as cm\n",
    "import anndata\n",
    "import warnings\n",
    "warnings.filterwarnings('ignore', category=anndata.ImplicitModificationWarning)\n",
    "warnings.filterwarnings('ignore', category=FutureWarning)\n",
    "from STutils.pl import getDefaultColors\n",
    "matplotlib.rcParams['ps.fonttype'] = 42\n",
    "matplotlib.rcParams['font.serif'] = ['Arial']\n",
    "sc.settings.set_figure_params(dpi=100,dpi_save=300,frameon=False,facecolor='white',fontsize=12,vector_friendly=True,figsize=(5,5))\n",
    "sc._settings.ScanpyConfig(figdir='./',n_jobs=30)"
   ]
  },
  {
   "cell_type": "code",
   "execution_count": 4,
   "metadata": {},
   "outputs": [],
   "source": [
    "od = '/jdfsbjcas1/ST_BJ/P21H28400N0232/gongchanghao/project/PDAC/spatial/cellbin_v3/7.9_ADM_spatial_sinature_score'\n",
    "os.system(f'mkdir -p {od}')\n",
    "os.chdir(od)"
   ]
  },
  {
   "cell_type": "code",
   "execution_count": 5,
   "metadata": {},
   "outputs": [],
   "source": [
    "adata = sc.read('/jdfsbjcas1/ST_BJ/P21H28400N0232/gongchanghao/project/PDAC/spatial/cellbin_v3/2.1_merge_big_cell_community/all_merged_adata.h5ad')\n",
    "sc.pp.normalize_total(adata, target_sum=1e4)\n",
    "sc.pp.log1p(adata)\n",
    "adata = adata[(adata.obs['celltype'].isin(['Acinar_Cell','Duct_like_Cell','Duct_Cell'])) & (adata.obs['region'].str.startswith('A'))]\n"
   ]
  },
  {
   "cell_type": "code",
   "execution_count": 7,
   "metadata": {},
   "outputs": [],
   "source": [
    "# sort adata.obs['region'] by character\n",
    "adata.obs['region'] = pd.Categorical(adata.obs['region'], categories=sorted(adata.obs['region'].unique(), key=lambda x: x[1:]))"
   ]
  },
  {
   "cell_type": "code",
   "execution_count": 24,
   "metadata": {},
   "outputs": [
    {
     "data": {
      "text/plain": [
       "['#a50026', '#f98e52', '#feffc0', '#8ec2dc', '#313695']"
      ]
     },
     "execution_count": 24,
     "metadata": {},
     "output_type": "execute_result"
    }
   ],
   "source": [
    "from matplotlib.colors import to_hex\n",
    "import numpy as np\n",
    "\n",
    "# 创建RdYlBu调色板\n",
    "cmap = plt.cm.RdYlBu\n",
    "\n",
    "# 获取调色板的颜色数量\n",
    "num_colors = 5\n",
    "\n",
    "# 生成均匀分布的颜色索引\n",
    "color_indices = np.linspace(0, 1, num_colors)\n",
    "\n",
    "# 提取RGBA格式的颜色\n",
    "rgba_colors = cmap(color_indices)\n",
    "\n",
    "# 将RGBA颜色转换为十六进制格式\n",
    "hex_colors = [to_hex(color) for color in rgba_colors]\n",
    "hex_colors"
   ]
  },
  {
   "cell_type": "code",
   "execution_count": 27,
   "metadata": {},
   "outputs": [
    {
     "data": {
      "text/plain": [
       "['#313695', '#8ec2dc', '#feffc0', '#f98e52', '#a50026']"
      ]
     },
     "execution_count": 27,
     "metadata": {},
     "output_type": "execute_result"
    }
   ],
   "source": [
    "hex_colors[::-1]"
   ]
  },
  {
   "cell_type": "code",
   "execution_count": null,
   "metadata": {},
   "outputs": [],
   "source": [
    "[\"#313695\", \"#8ec2dc\", \"#feffc0\", \"#f98e52\", \"#a50026\"]"
   ]
  },
  {
   "cell_type": "code",
   "execution_count": 28,
   "metadata": {},
   "outputs": [
    {
     "name": "stdout",
     "output_type": "stream",
     "text": [
      "WARNING: saving figure to file figures/stacked_violin_ADM_signature_score.pdf\n"
     ]
    },
    {
     "name": "stderr",
     "output_type": "stream",
     "text": [
      "/jdfsbjcas1/ST_BJ/P21H28400N0232/gongchanghao/software/scanpy/scanpy/plotting/_utils.py:292: UserWarning: This figure includes Axes that are not compatible with tight_layout, so results might be incorrect.\n",
      "  pl.savefig(filename, dpi=dpi, bbox_inches='tight')\n"
     ]
    },
    {
     "data": {
      "text/plain": [
       "{'mainplot_ax': <Axes: >}"
      ]
     },
     "execution_count": 28,
     "metadata": {},
     "output_type": "execute_result"
    }
   ],
   "source": [
    "# geneset = [\n",
    "#     \"B2M\",\n",
    "#     \"HLA-DRB1\",\n",
    "#     \"HLA-B\",\n",
    "#     \"BST2\",\n",
    "#     \"ISG15\",\n",
    "#     \"IFI44L\",\n",
    "#     \"MX1\",\n",
    "#     \"IFI44\",\n",
    "#     \"IL18\",\n",
    "#     \"SOD2\",\n",
    "#     \"SERPING1\",\n",
    "#     \"BTG1\",\n",
    "#     \"PLSCR1\",\n",
    "#     \"IFIT1\",\n",
    "#     \"C1R\",\n",
    "#     \"C3\",\n",
    "#     \"C7\",\n",
    "# ]\n",
    "colors = hex_colors[::-1]\n",
    "colors2 = [item for sublist in [[i] * 3 for i in colors] for item in sublist]\n",
    "sc.pl.stacked_violin(\n",
    "    adata,\n",
    "    geneset,\n",
    "    groupby=[\"region\", \"celltype\"],\n",
    "    swap_axes=False,\n",
    "    save=f\"ADM_signature_score.pdf\",\n",
    "    standard_scale=\"var\",\n",
    "    row_palette=colors2,\n",
    "    show=False,\n",
    "    cmap=\"viridis_r\",\n",
    "    figsize=(5, 3),\n",
    ")"
   ]
  },
  {
   "cell_type": "code",
   "execution_count": 11,
   "metadata": {},
   "outputs": [
    {
     "data": {
      "text/plain": [
       "['#a2cffe',\n",
       " '#a2cffe',\n",
       " '#a2cffe',\n",
       " '#87a922',\n",
       " '#87a922',\n",
       " '#87a922',\n",
       " '#ffa62b',\n",
       " '#ffa62b',\n",
       " '#ffa62b',\n",
       " '#f8481c',\n",
       " '#f8481c',\n",
       " '#f8481c',\n",
       " '#cffdbc',\n",
       " '#cffdbc',\n",
       " '#cffdbc']"
      ]
     },
     "execution_count": 11,
     "metadata": {},
     "output_type": "execute_result"
    }
   ],
   "source": [
    "colors2"
   ]
  },
  {
   "cell_type": "code",
   "execution_count": 34,
   "metadata": {},
   "outputs": [],
   "source": [
    "adata_sc = sc.read('/jdfsbjcas1/ST_BJ/P21H28400N0232/gongchanghao/project/yixianai/SC_reanalysis/result/3_cluster/Epithelial/seurat_obj.h5ad')"
   ]
  },
  {
   "cell_type": "code",
   "execution_count": 37,
   "metadata": {},
   "outputs": [],
   "source": [
    "# adata_sc.obsseurat_obj <- seurat_obj_all[,seurat_obj_all$cellsubtype != 'Endocrine_NMF_12']\n",
    "adata_sc = adata_sc[adata_sc.obs['cellsubtype'] != 'Endocrine_NMF_12']"
   ]
  },
  {
   "cell_type": "code",
   "execution_count": 46,
   "metadata": {},
   "outputs": [],
   "source": [
    "# sort adata_sc.obs['cellsubtype'] by character\n",
    "adata_sc.obs['cellsubtype'] =  pd.Categorical(adata_sc.obs['cellsubtype'], categories=['Acinar_NMF_8', 'Acinar_NMF_15', 'Acinar_RBPJL_NMF_11', 'Acinar_REG3G_NMF_14', 'Duct_FTH1_NMF_6', 'Duct_FOSB_NMF_5', 'Duct1_NTRK2_NMF_2', 'Duct_MMP7_NMF_10', 'Duct2_CEACAM6_NMF_7'])"
   ]
  },
  {
   "cell_type": "code",
   "execution_count": 48,
   "metadata": {},
   "outputs": [
    {
     "name": "stdout",
     "output_type": "stream",
     "text": [
      "WARNING: saving figure to file figures/stacked_violin_sc_ADM_signature_score.pdf\n"
     ]
    },
    {
     "name": "stderr",
     "output_type": "stream",
     "text": [
      "/jdfsbjcas1/ST_BJ/P21H28400N0232/gongchanghao/software/scanpy/scanpy/plotting/_utils.py:292: UserWarning: This figure includes Axes that are not compatible with tight_layout, so results might be incorrect.\n",
      "  pl.savefig(filename, dpi=dpi, bbox_inches='tight')\n",
      "meta NOT subset; don't know how to subset; dropped\n"
     ]
    },
    {
     "data": {
      "text/plain": [
       "{'mainplot_ax': <AxesSubplot: >,\n",
       " 'color_legend_ax': <AxesSubplot: title={'center': 'Median expression\\nin group'}>}"
      ]
     },
     "execution_count": 48,
     "metadata": {},
     "output_type": "execute_result"
    }
   ],
   "source": [
    "geneset = ['B2M', 'HLA-DRB1', 'HLA-B', 'BST2', 'ISG15', 'IFI44L', 'MX1', 'IFI44', 'IL18', 'SOD2', 'SERPING1', 'BTG1', 'PLSCR1', 'IFIT1', 'C1R', 'C3', 'C7']\n",
    "sc.pl.stacked_violin(adata_sc,geneset,groupby=['cellsubtype'],swap_axes=True,save=f'sc_ADM_signature_score.pdf',standard_scale='var',show=False,cmap='viridis_r')"
   ]
  },
  {
   "cell_type": "code",
   "execution_count": null,
   "metadata": {},
   "outputs": [],
   "source": [
    "from ctxcore.genesig import GeneSignature\n",
    "\n",
    "sig = GeneSignature.from_gmt('/jdfsbjcas1/ST_BJ/P21H28400N0232/gongchanghao/database/signature/signature.gmt')\n",
    "adm_signature_list = ['CIBERSORT.T.cells.CD8','CIBERSORT.T.cells.CD4.naive','CIBERSORT.T.cells.CD4.memory.resting','CIBERSORT.T.cells.CD4.memory.activated','CIBERSORT.T.cells.follicular.helper','CIBERSORT.T.cells.regulatory..Tregs.','CIBERSORT.T.cells.gamma.delta','Bernard_Cytotoxic.T','Chen_ExhaustT','Chen_NaiveT','Chen_EffectorT','Chen_RegT','NKCytotoxic','T_CD4_NV_CM_rest','T_CD4_CD8_rest','T_IFN_Response','T_Proliferation','T_CD8_Cytotoxic','T_CD8_Cytokine']\n",
    "sig_T = []\n",
    "for i in sig:\n",
    "    if i.name in T_signature_list:\n",
    "        sig_T.append(i)\n",
    "from pyscenic.aucell import aucell\n",
    "exp_mtx = pd.DataFrame(adata.X.toarray(),index=adata.obs_names,columns=adata.var_names)\n",
    "auc_mtx = aucell(exp_mtx, sig_T, noweights=True, num_workers=20)\n",
    "adata.obs[auc_mtx.columns] = auc_mtx.fillna(0)\n",
    "sc.settings.set_figure_params(dpi=100,dpi_save=300,frameon=False,facecolor='white',fontsize=12,vector_friendly=True,figsize=(5,5))\n",
    "sc.pl.umap(adata, color=auc_mtx.columns, wspace=0.4, show=False, save=\"_sc_macro_score1.pdf\",ncols=4)"
   ]
  }
 ],
 "metadata": {
  "kernelspec": {
   "display_name": "Python 3",
   "language": "python",
   "name": "python3"
  },
  "language_info": {
   "codemirror_mode": {
    "name": "ipython",
    "version": 3
   },
   "file_extension": ".py",
   "mimetype": "text/x-python",
   "name": "python",
   "nbconvert_exporter": "python",
   "pygments_lexer": "ipython3",
   "version": "3.9.16"
  },
  "orig_nbformat": 4
 },
 "nbformat": 4,
 "nbformat_minor": 2
}

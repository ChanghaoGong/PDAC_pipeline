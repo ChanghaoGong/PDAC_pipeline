{
 "cells": [
  {
   "cell_type": "code",
   "execution_count": null,
   "metadata": {},
   "outputs": [],
   "source": [
    "import os, sys\n",
    "from SPACEL.setting import set_environ_seed\n",
    "\n",
    "set_environ_seed(42)\n",
    "from SPACEL import Spoint\n",
    "import scanpy as sc\n",
    "import numpy as np\n",
    "from scipy.sparse import csr_matrix\n",
    "import matplotlib\n",
    "import seaborn as sns\n",
    "\n",
    "matplotlib.rcParams[\"pdf.fonttype\"] = 42\n",
    "matplotlib.rcParams[\"ps.fonttype\"] = 42\n",
    "matplotlib.rcParams[\"font.serif\"] = [\"Arial\"]\n",
    "sc.settings.set_figure_params(\n",
    "    dpi=50, dpi_save=300, facecolor=\"white\", fontsize=10, vector_friendly=True, figsize=(3, 3)\n",
    ")\n",
    "sc.settings.verbosity = 3"
   ]
  },
  {
   "cell_type": "code",
   "execution_count": null,
   "metadata": {},
   "outputs": [],
   "source": [
    "sample = \"SS200000118TL_C1\""
   ]
  },
  {
   "cell_type": "code",
   "execution_count": null,
   "metadata": {},
   "outputs": [],
   "source": [
    "od = f\"/jdfsbjcas1/ST_BJ/P21H28400N0232/gongchanghao/project/PDAC/spatial/cellbin_v3/cell_spoint/{sample}/\"\n",
    "os.system(f\"mkdir -p {od}\")\n",
    "os.chdir(od)"
   ]
  },
  {
   "cell_type": "code",
   "execution_count": null,
   "metadata": {},
   "outputs": [],
   "source": [
    "import yaml\n",
    "\n",
    "with open(\"/jdfsbjcas1/ST_BJ/P21H28400N0232/gongchanghao/project/PDAC/spatial/cellbin_v3/sample.yaml\", \"r\") as file:\n",
    "    sample_dict = yaml.safe_load(file)\n",
    "samplelist = list(sample_dict.keys())\n",
    "with open(\"/jdfsbjcas1/ST_BJ/P21H28400N0232/gongchanghao/project/PDAC/spatial/cellbin_v3/patient.yaml\", \"r\") as file:\n",
    "    patient_dict = yaml.safe_load(file)"
   ]
  },
  {
   "cell_type": "code",
   "execution_count": null,
   "metadata": {},
   "outputs": [],
   "source": [
    "sc_ad_total = sc.read(\n",
    "    f\"/jdfsbjcas1/ST_BJ/P21H28400N0232/gongchanghao/project/yixianai/SC_reanalysis/result/5_normal_diff/seurat_merge_rename.h5ad\"\n",
    ")\n",
    "sc_ad_total2 = sc_ad_total.raw.to_adata()\n",
    "sc_ad_total = sc_ad_total2\n",
    "patient = patient_dict[sample]\n",
    "if patient in sc_ad_total.obs[\"Patients\"].values:\n",
    "    sc_ad = sc_ad_total[\n",
    "        ~((sc_ad_total.obs[\"Patients\"] != patient) & (sc_ad_total.obs[\"cellTypes_filt\"] == \"TumorCell\"))\n",
    "    ]\n",
    "else:\n",
    "    sc_ad = sc_ad_total\n",
    "st_ad_total = sc.read(\n",
    "    \"/jdfsbjcas1/ST_BJ/P21H28400N0232/gongchanghao/project/PDAC/spatial/cellbin_v2/adata_cellbin_total.h5ad\"\n",
    ")\n",
    "st_ad = st_ad_total[st_ad_total.obs[\"batch\"] == sample]\n",
    "\n",
    "sc.pp.filter_genes(st_ad, min_cells=1)\n",
    "sc.pp.filter_genes(sc_ad, min_cells=1)\n",
    "sc.pp.filter_cells(st_ad, min_genes=1)\n",
    "sc.pp.filter_cells(sc_ad, min_genes=1)"
   ]
  },
  {
   "cell_type": "code",
   "execution_count": null,
   "metadata": {},
   "outputs": [],
   "source": [
    "spoint = Spoint.init_model(sc_ad, st_ad, celltype_key=\"cellTypes_nmf\", sm_size=500000, n_threads=30)"
   ]
  },
  {
   "cell_type": "code",
   "execution_count": null,
   "metadata": {},
   "outputs": [],
   "source": [
    "spoint.train(max_steps=5000, batch_size=4096)"
   ]
  },
  {
   "cell_type": "code",
   "execution_count": null,
   "metadata": {},
   "outputs": [],
   "source": [
    "pre = spoint.deconv_spatial()"
   ]
  },
  {
   "cell_type": "code",
   "execution_count": null,
   "metadata": {},
   "outputs": [],
   "source": [
    "st_ad = spoint.st_ad"
   ]
  },
  {
   "cell_type": "code",
   "execution_count": null,
   "metadata": {},
   "outputs": [],
   "source": [
    "st_ad.write(f\"Spiont_{sample}.h5ad\")"
   ]
  },
  {
   "cell_type": "code",
   "execution_count": null,
   "metadata": {},
   "outputs": [],
   "source": [
    "sc.pl.spatial(st_ad, color=pre.columns, ncols=6, vmax=\"p99\", spot_size=100, save=f\"embeddings_{sample}.pdf\")"
   ]
  }
 ],
 "metadata": {
  "language_info": {
   "name": "python"
  }
 },
 "nbformat": 4,
 "nbformat_minor": 2
}

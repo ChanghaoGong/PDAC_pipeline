{
 "cells": [
  {
   "cell_type": "code",
   "execution_count": null,
   "metadata": {},
   "outputs": [],
   "source": [
    "adata = sc.read_h5ad(\n",
    "    \"/jdfsbjcas1/ST_BJ/P21H28400N0232/gongchanghao/project/PDAC/spatial/cellbin_v3/1.1_cellbin_rawdata/filtered_data/merged_adata2.h5ad\"\n",
    ")\n",
    "adata_tmp = sc.read(\n",
    "    f\"/jdfsbjcas1/ST_BJ/P21H28400N0232/gongchanghao/project/PDAC/spatial/cellbin_v3/SPACEL/Spoint_annotation/SS200000118TL_C1/Spiont_SS200000118TL_C1.h5ad\"\n",
    ")"
   ]
  },
  {
   "cell_type": "code",
   "execution_count": null,
   "metadata": {},
   "outputs": [],
   "source": [
    "celltype_score = adata.obs[adata_tmp.uns[\"celltypes\"].tolist() + [\"celltype\", \"cellsubtype\"]].copy()\n",
    "celltype_score[adata_tmp.uns[\"celltypes\"].tolist()] = celltype_score[adata_tmp.uns[\"celltypes\"].tolist()].fillna(0)\n",
    "celltype_score = celltype_score[~celltype_score[\"celltype\"].isin([\"Nerve_Cell\"])]\n",
    "celltype_score = celltype_score[~celltype_score[\"cellsubtype\"].isin([\"Acinar_Cell\"])]"
   ]
  },
  {
   "cell_type": "code",
   "execution_count": null,
   "metadata": {},
   "outputs": [],
   "source": [
    "# make a dict for celltype as key and cellsubtypes as value list\n",
    "celltype_subtype_dict = {}\n",
    "for celltype in celltype_score[\"celltype\"].unique():\n",
    "    celltype_subtype_dict[celltype] = (\n",
    "        celltype_score[celltype_score[\"celltype\"] == celltype][\"cellsubtype\"].unique().tolist()\n",
    "    )\n",
    "celltype_subtype_dict\n",
    "# group celltype_score.columns by celltype_subtype_dict and get sum value\n",
    "celltype_score_sum = pd.DataFrame()\n",
    "for key, value in celltype_subtype_dict.items():\n",
    "    celltype_score_sum[key] = celltype_score[value].sum(axis=1)\n",
    "# celltype_score_sum['celltype'] = celltype_score['celltype']\n",
    "celltype_score_sum[\"celltype\"] = celltype_score[\"celltype\"]\n",
    "celltype_score_sum[\"celltype\"] = celltype_score_sum[\"celltype\"].cat.remove_unused_categories()"
   ]
  },
  {
   "cell_type": "code",
   "execution_count": null,
   "metadata": {},
   "outputs": [],
   "source": [
    "# plot heatmap for celltype_score_sum.groupby('celltype').mean()\n",
    "celltype_score_sum_mean = celltype_score_sum.groupby(\"celltype\").mean()\n",
    "# sort columns and index of celltype_score_sum_mean\n",
    "celltype_score_sum_mean = celltype_score_sum_mean.reindex(sorted(celltype_score_sum_mean.columns), axis=1)\n",
    "import seaborn as sns\n",
    "\n",
    "g = sns.clustermap(\n",
    "    celltype_score_sum_mean,\n",
    "    z_score=1,\n",
    "    row_cluster=False,\n",
    "    col_cluster=False,\n",
    "    cmap=\"RdBu_r\",\n",
    "    linewidth=0.3,\n",
    "    linecolor=\"#929292\",\n",
    "    figsize=(5.5, 5),\n",
    ")\n",
    "g.ax_cbar.set_position((0.9, 0.1, 0.03, 0.2))\n",
    "g.ax_cbar.set_title(\"Score\")\n",
    "g.ax_cbar.tick_params(axis=\"x\", length=1)\n",
    "for spine in g.ax_cbar.spines:\n",
    "    g.ax_cbar.spines[spine].set_color(\"#929292\")\n",
    "    g.ax_cbar.spines[spine].set_linewidth(1)\n",
    "plt.savefig(\"celltype_score_heatmap.pdf\", dpi=300, bbox_inches=\"tight\")"
   ]
  },
  {
   "cell_type": "code",
   "execution_count": null,
   "metadata": {},
   "outputs": [],
   "source": [
    "import os, sys\n",
    "import scanpy as sc\n",
    "import pandas as pd\n",
    "import numpy as np\n",
    "import matplotlib.pyplot as plt\n",
    "import matplotlib as mpl\n",
    "from STutils.pl import plot_cellbin_gradient, plot_cellbin_discrete, getDefaultColors"
   ]
  },
  {
   "cell_type": "code",
   "execution_count": null,
   "metadata": {},
   "outputs": [],
   "source": [
    "sc.settings.set_figure_params(\n",
    "    dpi=100, dpi_save=300, frameon=False, facecolor=\"white\", fontsize=16, vector_friendly=True, figsize=(5, 5)\n",
    ")\n",
    "sc._settings.ScanpyConfig(figdir=\"./\", n_jobs=30)"
   ]
  },
  {
   "cell_type": "code",
   "execution_count": null,
   "metadata": {},
   "outputs": [],
   "source": [
    "od = \"/jdfsbjcas1/ST_BJ/P21H28400N0232/gongchanghao/project/PDAC/spatial/cellbin_v3/1.2_cellbin_spatial_plot/celltype_spatial_plot3\"\n",
    "os.system(f\"mkdir -p {od}\")\n",
    "os.chdir(od)"
   ]
  },
  {
   "cell_type": "code",
   "execution_count": null,
   "metadata": {},
   "outputs": [],
   "source": [
    "sample = \"SS200000148TR_D1\""
   ]
  },
  {
   "cell_type": "code",
   "execution_count": null,
   "metadata": {},
   "outputs": [],
   "source": [
    "adata = sc.read(\n",
    "    f\"/jdfsbjcas1/ST_BJ/P21H28400N0232/gongchanghao/project/PDAC/spatial/cellbin_v3/1.1_cellbin_rawdata/rawdata/adata_{sample_dict[sample]}.h5ad\"\n",
    ")"
   ]
  },
  {
   "cell_type": "code",
   "execution_count": null,
   "metadata": {},
   "outputs": [],
   "source": [
    "rename_dict = {\n",
    "    \"Fibroblast_Cell\": \"Fibroblast\",\n",
    "    \"Acinar_Cell\": \"Acinar\",\n",
    "    \"Endothelial_Cell\": \"Endothelial\",\n",
    "    \"PVL_Cell\": \"Stellate\",\n",
    "    \"Endocrine_Cell\": \"Endocrine\",\n",
    "    \"Nerve_Cell\": \"Neuron\",\n",
    "    \"Macrophage_Cell\": \"Macrophage\",\n",
    "}\n",
    "adata.obs[\"celltype\"] = adata.obs[\"celltype\"].replace(rename_dict)\n",
    "adata.obs[\"celltype\"] = pd.Categorical(adata.obs[\"celltype\"], categories=sorted(adata.obs[\"celltype\"].unique()))"
   ]
  },
  {
   "cell_type": "code",
   "execution_count": null,
   "metadata": {},
   "outputs": [],
   "source": [
    "resolution = \"celltype\"\n",
    "clusters = adata.obs[resolution].cat.categories\n",
    "cluster_number = clusters.shape[0]\n",
    "colors = getDefaultColors(cluster_number, type=2)\n",
    "flout = open(f\"color_{resolution}_{sample_dict[sample]}.list\", \"w\")\n",
    "for i in range(cluster_number):\n",
    "    if clusters[i] == \"Low_Quanlity_Cell\":\n",
    "        flout.write(clusters[i] + \"\\t#808080\\n\")\n",
    "    elif clusters[i] == \"Undefined_Cell\":\n",
    "        flout.write(clusters[i] + \"\\t#D3D3D3\\n\")\n",
    "    else:\n",
    "        flout.write(clusters[i] + \"\\t\" + colors[i] + \"\\n\")\n",
    "flout.close()"
   ]
  },
  {
   "cell_type": "code",
   "execution_count": null,
   "metadata": {},
   "outputs": [],
   "source": [
    "from collections import OrderedDict\n",
    "from PIL import Image\n",
    "\n",
    "Image.MAX_IMAGE_PIXELS = None\n",
    "\n",
    "\n",
    "def plot_cellbin_discrete(\n",
    "    adata, mask, tag, prefix, colors, dpi=600, edge_cut=300, add_scale_bar=True, scale=0.5, length_fraction=0.25\n",
    "):\n",
    "    \"\"\"\n",
    "    params:\n",
    "        adata: AnnData object\n",
    "        mask: mask file path\n",
    "        tag: tag name in adata.obs\n",
    "        prefix: prefix of output file\n",
    "        colors: color palette in getDefaultcolors\n",
    "        dpi: dpi of output file\n",
    "        edge_cut: pixels to retain in edge cutting\n",
    "    \"\"\"\n",
    "    res = pd.DataFrame(adata.obs, columns=[\"x\", \"y\", tag], index=adata.obs.index)\n",
    "    res = res.sort_values(by=tag)\n",
    "    res.to_csv(f\"bin1clu_{tag}_{prefix}.txt\", sep=\"\\t\", index=False)  # write to file\n",
    "    clusters = res[tag].unique()\n",
    "    cluster_number = clusters.shape[0]\n",
    "    color_palette_fl = open(colors, \"r\").readlines()\n",
    "    color_palette = OrderedDict()\n",
    "    for line in color_palette_fl:\n",
    "        color_palette[line.split(\"\\t\")[0]] = line.split(\"\\t\")[1].strip()\n",
    "    # sort clusters by color_palette.keys()\n",
    "    clusters = [cluster for cluster in color_palette.keys() if cluster in clusters]\n",
    "    # colors = getDefaultColors(cluster_number, type=colors)\n",
    "    # flout = open(f\"color_{tag}_{prefix}.list\", 'w')\n",
    "    # for i in range(cluster_number):\n",
    "    #     flout.write(str(clusters[i]) + '\\t' + colors[i] + '\\n')\n",
    "    # flout.close()  # write to file\n",
    "    tif = f\"{tag}_{prefix}_spatial.tif\"\n",
    "    os.system(\n",
    "        f\"/jdfsbjcas1/ST_BJ/P21H28400N0232/gongchanghao/bin/cell_bin_plot bin1clu_{tag}_{prefix}.txt {mask} {colors} {tif}\"\n",
    "    )  # draw cellbin discrete tif\n",
    "    img = plt.imread(tif)\n",
    "    im = img.copy()\n",
    "    # cut black edge of im\n",
    "    non_black_coords = np.argwhere(im.sum(axis=2) > 0)\n",
    "    y1, x1 = non_black_coords.min(axis=0)\n",
    "    y2, x2 = non_black_coords.max(axis=0)\n",
    "    im = im[y1 - edge_cut : y2 + 1000, x1 - edge_cut : x2 + edge_cut]\n",
    "    # replace black background with white\n",
    "    black_pixels = (im[:, :, 0] == 0) & (im[:, :, 1] == 0) & (im[:, :, 2] == 0)\n",
    "    im[black_pixels] = [255, 255, 255]\n",
    "    # draw color legend\n",
    "    fig, ax = plt.subplots(figsize=(5, 5), dpi=dpi, gridspec_kw={\"wspace\": 0, \"hspace\": 0})\n",
    "    plt.subplots_adjust(0, 0, 1, 1)\n",
    "    ax.axis(\"off\")\n",
    "    ax.imshow(im)\n",
    "    if add_scale_bar:\n",
    "        from matplotlib_scalebar.scalebar import ScaleBar\n",
    "\n",
    "        scalebar = ScaleBar(scale, \"um\", length_fraction=length_fraction, frameon=False, location=\"lower right\")\n",
    "        ax.add_artist(scalebar)\n",
    "    # fig.patch.set_facecolor('black')\n",
    "    # Create a legend for the discrete colors\n",
    "    legend_labels = [str(cluster) for cluster in clusters]  # Assuming clusters is a list of labels\n",
    "    legend_patches = [\n",
    "        mpl.patches.Patch(color=color_palette[legend_labels[i]], label=legend_labels[i]) for i in range(cluster_number)\n",
    "    ]\n",
    "\n",
    "    # Add a legend to the figure\n",
    "    legend = ax.legend(handles=legend_patches, loc=\"lower left\", fontsize=8, bbox_to_anchor=(1.05, 0))\n",
    "    legend.set_title(tag, prop={\"size\": 8, \"weight\": \"bold\"})\n",
    "    # set legend text color white\n",
    "    legend.get_title().set_color(\"black\")\n",
    "    for text in legend.get_texts():\n",
    "        text.set_color(\"black\")\n",
    "    outfig = f\"{tag}_{prefix}_spatial.pdf\"\n",
    "    fig.savefig(outfig, dpi=dpi, format=\"pdf\", bbox_inches=\"tight\")\n",
    "    return ax"
   ]
  },
  {
   "cell_type": "code",
   "execution_count": null,
   "metadata": {},
   "outputs": [],
   "source": [
    "fig, ax = plt.subplots(figsize=(18, 5), dpi=300, gridspec_kw={\"wspace\": 0, \"hspace\": 0})\n",
    "ax.axis(\"off\")\n",
    "colors = \"/jdfsbjcas1/ST_BJ/P21H28400N0232/gongchanghao/project/PDAC/spatial/cellbin_v3/1.2_cellbin_spatial_plot/celltype_spatial_plot3/color_celltype.list\"\n",
    "color_palette_fl = open(colors, \"r\").readlines()\n",
    "color_palette = {}\n",
    "for line in color_palette_fl:\n",
    "    color_palette[line.split(\"\\t\")[0]] = line.split(\"\\t\")[1].strip()\n",
    "clusters = list(color_palette.keys())\n",
    "legend_labels = [str(cluster) for cluster in clusters]  # Assuming clusters is a list of labels\n",
    "legend_patches = [\n",
    "    mpl.patches.Patch(color=color_palette[legend_labels[i]], label=legend_labels[i]) for i in range(len(legend_labels))\n",
    "]\n",
    "\n",
    "# Add a legend to the figure\n",
    "legend = ax.legend(handles=legend_patches, loc=\"lower left\", fontsize=8, bbox_to_anchor=(1.05, 0), ncol=8)\n",
    "legend.set_title(\"CellType\", prop={\"size\": 12, \"weight\": \"bold\"})\n",
    "# set legend text color white\n",
    "legend.get_title().set_color(\"black\")\n",
    "for text in legend.get_texts():\n",
    "    text.set_color(\"black\")\n",
    "plt.savefig(\"legend.pdf\", dpi=300, format=\"pdf\", bbox_inches=\"tight\")"
   ]
  }
 ],
 "metadata": {
  "language_info": {
   "name": "python"
  }
 },
 "nbformat": 4,
 "nbformat_minor": 2
}

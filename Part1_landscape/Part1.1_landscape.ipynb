{
 "cells": [
  {
   "cell_type": "code",
   "execution_count": null,
   "metadata": {},
   "outputs": [],
   "source": [
    "import os, sys\n",
    "import scanpy as sc\n",
    "import pandas as pd\n",
    "import numpy as np\n",
    "from pathlib import Path\n",
    "import matplotlib.pyplot as plt\n",
    "import matplotlib\n",
    "import seaborn as sns\n",
    "import matplotlib.cm as cm\n",
    "from STutils.pl import getDefaultColors\n",
    "\n",
    "matplotlib.rcParams[\"pdf.fonttype\"] = 42\n",
    "matplotlib.rcParams[\"ps.fonttype\"] = 42\n",
    "matplotlib.rcParams[\"font.serif\"] = [\"Arial\"]\n",
    "sc.settings.set_figure_params(\n",
    "    dpi=100, dpi_save=300, frameon=False, facecolor=\"white\", fontsize=16, vector_friendly=True, figsize=(5, 5)\n",
    ")\n",
    "sc._settings.ScanpyConfig(figdir=\"./\", n_jobs=30)"
   ]
  },
  {
   "cell_type": "markdown",
   "metadata": {},
   "source": [
    "## Sample summary "
   ]
  },
  {
   "cell_type": "code",
   "execution_count": null,
   "metadata": {},
   "outputs": [],
   "source": [
    "# 空间组样本热图\n",
    "os.chdir(\"/jdfsbjcas1/ST_BJ/P21H28400N0232/gongchanghao/project/PDAC/spatial/cellbin_v3/1.1_sample_summary\")\n",
    "df = pd.read_csv(\"sample_info.xls\", sep=\"\\t\")\n",
    "df.set_index(\"sampleName\", inplace=True)\n",
    "features = [\"SampleType\", \"scRNA-seq\", \"Stereo-seq\", \"Gender\", \"Stage\"]\n",
    "df = df[features]\n",
    "classtonum = {\"Tum\": 3, \"PT\": 2, \"yes\": 4, \"no\": 5, \"female\": 0, \"male\": 1, \"IB\": 6, \"IIB\": 7, \"III\": 8}\n",
    "df = pd.DataFrame(\n",
    "    np.array([classtonum[i] for i in df.values.flat]).reshape(df.shape), index=df.index, columns=df.columns\n",
    ")\n",
    "df"
   ]
  },
  {
   "cell_type": "code",
   "execution_count": null,
   "metadata": {},
   "outputs": [],
   "source": [
    "# 颜色设置\n",
    "colors1 = [colorlist1[i] for i in [1, 0]]\n",
    "colors2 = [\"#9af764\", \"lightgrey\"]\n",
    "colors3 = [\"#3c9992\", \"lightgrey\"]\n",
    "colors4 = [colorlist1[i] for i in [3, 4]]\n",
    "colors5 = [colorlist2[i] for i in [15, 13, 12]]\n",
    "from matplotlib.colors import ListedColormap\n",
    "\n",
    "# cmap1 = ListedColormap(colors1)\n",
    "cmap1 = ListedColormap(colors1)\n",
    "cmap2 = ListedColormap(colors2)\n",
    "cmap3 = ListedColormap(colors3)\n",
    "cmap4 = ListedColormap(colors4)\n",
    "cmap5 = ListedColormap(colors5)\n",
    "cmaplist = [cmap1, cmap2, cmap3, cmap4, cmap5]"
   ]
  },
  {
   "cell_type": "code",
   "execution_count": null,
   "metadata": {},
   "outputs": [],
   "source": [
    "from matplotlib.patches import Patch\n",
    "\n",
    "# 绘图\n",
    "fig, ax = plt.subplots(figsize=(10, 4))\n",
    "ax.grid(False)\n",
    "for i, col in enumerate(df.index):\n",
    "    for j, index in enumerate(df.columns):\n",
    "        ax.add_patch(plt.Rectangle((i - 0.5, j - 0.5), 1, 1, fill=None, alpha=1, edgecolor=\"gray\"))\n",
    "ax.matshow(\n",
    "    df.mask(((df == df) | df.isnull()) & (df.columns != \"SampleType\")).T, cmap=cmap1, aspect=1\n",
    ")  # You can change the colormap here\n",
    "ax.matshow(df.mask(((df == df) | df.isnull()) & (df.columns != \"scRNA-seq\")).T, cmap=cmap2, aspect=1)\n",
    "ax.matshow(df.mask(((df == df) | df.isnull()) & (df.columns != \"Stereo-seq\")).T, cmap=cmap3, aspect=1)\n",
    "ax.matshow(df.mask(((df == df) | df.isnull()) & (df.columns != \"Gender\")).T, cmap=cmap4, aspect=1)\n",
    "ax.matshow(df.mask(((df == df) | df.isnull()) & (df.columns != \"Stage\")).T, cmap=cmap5, aspect=1)\n",
    "legend_elements1 = [\n",
    "    Patch(facecolor=colors1[1], edgecolor=colors1[1], label=\"Tum\"),\n",
    "    Patch(facecolor=colors1[0], edgecolor=colors1[0], label=\"PT\"),\n",
    "]\n",
    "legend_elements2 = [\n",
    "    Patch(facecolor=colors2[0], edgecolor=colors2[0], label=\"scRNA_seq\"),\n",
    "    Patch(facecolor=colors3[0], edgecolor=colors3[0], label=\"Stereo_seq\"),\n",
    "    Patch(facecolor=\"lightgrey\", edgecolor=\"lightgrey\", label=\"None\"),\n",
    "]\n",
    "legend_elements3 = [\n",
    "    Patch(facecolor=colors4[1], edgecolor=colors4[1], label=\"female\"),\n",
    "    Patch(facecolor=colors4[0], edgecolor=colors4[0], label=\"male\"),\n",
    "]\n",
    "legend_elements4 = [\n",
    "    Patch(facecolor=colors5[0], edgecolor=colors5[0], label=\"IB\"),\n",
    "    Patch(facecolor=colors5[1], edgecolor=colors5[1], label=\"IIB\"),\n",
    "    Patch(facecolor=colors5[2], edgecolor=colors5[2], label=\"III\"),\n",
    "]\n",
    "# for i, col in enumerate(df.columns):\n",
    "#     legend_elements.append(plt.Line2D([0], [0], marker='o', color='w', label=col, markerfacecolor=cmaplist[i](1)))\n",
    "ax.tick_params(axis=\"both\", which=\"both\", bottom=False, left=False)\n",
    "plt.xticks(range(df.index.shape[0]), df.index, rotation=45, fontsize=10)\n",
    "plt.yticks(range(df.columns.shape[0]), df.columns)\n",
    "legend1 = plt.legend(handles=legend_elements1, loc=\"upper left\", bbox_to_anchor=(0, -0.1), title=\"SampleType\")\n",
    "legend2 = plt.legend(handles=legend_elements2, loc=\"upper center\", bbox_to_anchor=(0.35, -0.1), title=\"Sequencing\")\n",
    "legend3 = plt.legend(handles=legend_elements3, loc=\"upper right\", bbox_to_anchor=(0.65, -0.1), title=\"Gender\")\n",
    "legend4 = plt.legend(handles=legend_elements4, loc=\"upper right\", bbox_to_anchor=(0.85, -0.1), title=\"Stage\")\n",
    "ax.add_artist(legend1)\n",
    "ax.add_artist(legend2)\n",
    "ax.add_artist(legend3)\n",
    "ax.add_artist(legend4)\n",
    "plt.savefig(\"sample_summary.pdf\", bbox_inches=\"tight\", bbox_extra_artists=(legend1, legend2, legend3))"
   ]
  },
  {
   "cell_type": "markdown",
   "metadata": {},
   "source": [
    "## sc-RNA seq overview"
   ]
  },
  {
   "cell_type": "code",
   "execution_count": null,
   "metadata": {},
   "outputs": [],
   "source": [
    "# 样本编号信息\n",
    "import yaml\n",
    "\n",
    "with open(\"/jdfsbjcas1/ST_BJ/P21H28400N0232/gongchanghao/project/PDAC/spatial/cellbin_v3/sample.yaml\", \"r\") as file:\n",
    "    sample_dict = yaml.safe_load(file)"
   ]
  },
  {
   "cell_type": "code",
   "execution_count": null,
   "metadata": {},
   "outputs": [],
   "source": [
    "adata = sc.read(\n",
    "    \"/jdfsbjcas1/ST_BJ/P21H28400N0232/gongchanghao/project/PDAC/spatial/cellbin_v3/1.1_cellbin_rawdata/sc_obj4.h5ad\"\n",
    ")"
   ]
  },
  {
   "cell_type": "code",
   "execution_count": null,
   "metadata": {},
   "outputs": [],
   "source": [
    "color_palette_fl = open(\n",
    "    \"/jdfsbjcas1/ST_BJ/P21H28400N0232/gongchanghao/project/PDAC/spatial/cellbin_v3/1.6_sc_summary/color_celltype.list\",\n",
    "    \"r\",\n",
    ").readlines()\n",
    "color_palette = []\n",
    "for line in color_palette_fl:\n",
    "    color_palette.append(line.strip().split(\"\\t\")[1])\n",
    "sc.settings.set_figure_params(\n",
    "    dpi=100, dpi_save=300, frameon=False, facecolor=\"white\", fontsize=13, vector_friendly=True, figsize=(5, 5)\n",
    ")\n",
    "sc.pl.umap(\n",
    "    adata,\n",
    "    color=[\"CellType\"],\n",
    "    wspace=0.4,\n",
    "    palette=color_palette,\n",
    "    show=False,\n",
    "    save=\"scRNA_umap_celltype.pdf\",\n",
    "    legend_loc=\"on data\",\n",
    "    legend_fontsize=12,\n",
    ")\n",
    "sc.settings.set_figure_params(\n",
    "    dpi=100, dpi_save=300, frameon=False, facecolor=\"white\", fontsize=13, vector_friendly=True, figsize=(6, 5)\n",
    ")\n",
    "sc.pl.umap(adata, color=[\"sample\"], wspace=0.4, palette=\"tab20\", show=False, save=\"scRNA_umap_sample.pdf\")"
   ]
  },
  {
   "cell_type": "code",
   "execution_count": null,
   "metadata": {},
   "outputs": [],
   "source": [
    "from adjustText import adjust_text\n",
    "\n",
    "\n",
    "def gen_mpl_labels(adata, groupby, exclude=(), ax=None, adjust_kwargs=None, text_kwargs=None):\n",
    "    if adjust_kwargs is None:\n",
    "        adjust_kwargs = {\"text_from_points\": False}\n",
    "    if text_kwargs is None:\n",
    "        text_kwargs = {}\n",
    "\n",
    "    medians = {}\n",
    "\n",
    "    for g, g_idx in adata.obs.groupby(groupby).groups.items():\n",
    "        if g in exclude:\n",
    "            continue\n",
    "        medians[g] = np.median(adata[g_idx].obsm[\"X_umap\"], axis=0)\n",
    "\n",
    "    if ax is None:\n",
    "        texts = [plt.text(x=x, y=y, s=k, **text_kwargs) for k, (x, y) in medians.items()]\n",
    "    else:\n",
    "        texts = [ax.text(x=x, y=y, s=k, **text_kwargs) for k, (x, y) in medians.items()]\n",
    "\n",
    "    adjust_text(texts, **adjust_kwargs)\n",
    "\n",
    "\n",
    "with plt.rc_context({\"figure.figsize\": (4, 4), \"figure.dpi\": 300, \"figure.frameon\": False}):\n",
    "    ax = sc.pl.umap(adata, color=\"CellType\", title=\"CellTypes\", show=False, legend_loc=None, frameon=False)\n",
    "    gen_mpl_labels(\n",
    "        adata,\n",
    "        \"CellType\",\n",
    "        exclude=(\"None\",),  # This was before we had the `nan` behaviour\n",
    "        ax=ax,\n",
    "        # adjust_kwargs=dict(arrowprops=dict(arrowstyle='-', color='black')),\n",
    "        text_kwargs=dict(fontsize=7),\n",
    "    )\n",
    "    fig = ax.get_figure()\n",
    "    fig.tight_layout()\n",
    "    plt.savefig(\"scRNA_umap_celltype.pdf\", bbox_inches=\"tight\")"
   ]
  },
  {
   "cell_type": "code",
   "execution_count": null,
   "metadata": {},
   "outputs": [],
   "source": [
    "matplotlib.rcParams[\"font.size\"] = 12\n",
    "matplotlib.rcParams[\"pdf.fonttype\"] = 42\n",
    "matplotlib.rcParams[\"ps.fonttype\"] = 42\n",
    "matplotlib.rcParams[\"font.serif\"] = [\"Arial\"]\n",
    "matplotlib.rcParams[\"legend.fontsize\"] = 12\n",
    "filtered_data = adata.obs\n",
    "grouped = filtered_data.groupby([\"sample\", \"CellType\"]).size().unstack(\"CellType\").fillna(0)\n",
    "proportions = grouped.divide(grouped.sum(axis=1), axis=0)\n",
    "# sort proportions by sample\n",
    "proportions = proportions.sort_index(axis=0)\n",
    "fig, axs = plt.subplots(figsize=(8, 5))\n",
    "num_colors = len(proportions.columns)\n",
    "color_palette_fl = open(\n",
    "    \"/jdfsbjcas1/ST_BJ/P21H28400N0232/gongchanghao/project/PDAC/spatial/cellbin_v3/1.6_sc_summary/color_celltype.list\",\n",
    "    \"r\",\n",
    ").readlines()\n",
    "color_palette = []\n",
    "for line in color_palette_fl:\n",
    "    color_palette.append(line.strip().split(\"\\t\")[1])\n",
    "proportions.plot(kind=\"bar\", stacked=True, ax=axs, width=0.8, color=color_palette)\n",
    "axs.set_title(\"Cell Type Proportions by Sample\")\n",
    "axs.set_xlabel(\"Samples\")\n",
    "axs.set_ylabel(\"Proportions\")\n",
    "axs.tick_params(axis=\"x\", labelsize=12)\n",
    "axs.legend(title=\"Cell Type\", bbox_to_anchor=(1.05, 1), loc=\"upper left\", frameon=False)\n",
    "axs.grid(False)\n",
    "plt.setp(axs.get_xticklabels(), rotation=45, ha=\"right\", rotation_mode=\"anchor\")\n",
    "fig.savefig(f\"scRNA_percent_celltype_sample.pdf\", bbox_inches=\"tight\")"
   ]
  },
  {
   "cell_type": "code",
   "execution_count": null,
   "metadata": {},
   "outputs": [],
   "source": [
    "sc.tl.rank_genes_groups(adata,\n",
    "                        'CellType',\n",
    "                        method='wilcoxon',\n",
    "                        use_raw=False,\n",
    "                        # layer='norm',\n",
    "                        key_added='rank_genes_groups')\n",
    "\n",
    "from collections import OrderedDict\n",
    "\n",
    "DEG_dict = OrderedDict(\n",
    "    [\n",
    "        (\"Malignant\", [\"S100P\", \"FXYD3\", \"S100A6\", \"KRT19\", \"EPCAM\"]),\n",
    "        (\"Epi\", [\"CELA3A\", \"CPB1\", \"PIGR\", \"FXYD2\", \"CFTR\"]),\n",
    "        (\"Myeloid\", [\"CD163\", \"CSF1R\", \"C1QB\", \"AIF1\", \"TYROBP\"]),\n",
    "        (\"Lymphoid\", [\"CD3D\", \"GZMA\", \"GNLY\", \"MS4A1\", \"JCHAIN\"]),\n",
    "        (\"Mysen\", [\"COL1A2\", \"DCN\", \"VWF\", \"CLEC14A\", \"RGS5\"]),\n",
    "    ]\n",
    ")\n",
    "sc.pl.dotplot(adata, DEG_dict, groupby=\"CellType\", cmap=\"viridis_r\", save=\"scRNA_DEG_dotplot.pdf\", figsize=(20, 4))"
   ]
  },
  {
   "cell_type": "markdown",
   "metadata": {},
   "source": [
    "# spatial overview\n",
    "## 统计cellbin基因表达平均数、中位数和UMI平均数、中位数"
   ]
  },
  {
   "cell_type": "code",
   "execution_count": null,
   "metadata": {},
   "outputs": [],
   "source": [
    "from spatial.plot_cellbin import plot_cellbin_gradient\n",
    "for sample in samplelist:\n",
    "    adata = sc.read(\n",
    "        f\"/jdfsbjcas1/ST_BJ/P21H28400N0232/gongchanghao/project/PDAC/spatial/rawdata/{sample}/{sample}.h5ad\"\n",
    "    )\n",
    "    adata.obs_names._data = np.char.replace(adata.obs_names._data.astype(str), \".0\", \"\").astype(object)\n",
    "    mask = f\"/jdfsbjcas1/ST_BJ/P21H28400N0232/gongchanghao/project/PDAC/spatial/rawdata/{sample}/{sample}_regist_mask_ft.tif\"\n",
    "    adata.var_names_make_unique()\n",
    "    adata.var[\"mt\"] = adata.var_names.str.startswith(\"MT-\")\n",
    "    sc.pp.calculate_qc_metrics(adata, qc_vars=[\"mt\"], inplace=True)\n",
    "    plot_cellbin_gradient(adata, mask, \"n_genes_by_counts\", sample_dict[sample])\n",
    "    plot_cellbin_gradient(adata, mask, \"total_counts\", sample_dict[sample])"
   ]
  },
  {
   "cell_type": "markdown",
   "metadata": {},
   "source": [
    "## 空间降维可视化"
   ]
  },
  {
   "cell_type": "code",
   "execution_count": null,
   "metadata": {},
   "outputs": [],
   "source": [
    "adata = sc.read(\n",
    "    \"/jdfsbjcas1/ST_BJ/P21H28400N0232/gongchanghao/project/PDAC/spatial/cellbin_v3/6.9_Tumor_sc_scvi_cluster/adata_big_cell_scvi.h5ad\"\n",
    ")"
   ]
  },
  {
   "cell_type": "code",
   "execution_count": null,
   "metadata": {},
   "outputs": [],
   "source": [
    "SCVI_LATENT_KEY = \"X_scVI\"\n",
    "sc.pp.neighbors(adata, use_rep=SCVI_LATENT_KEY)\n",
    "sc.tl.leiden(adata, key_added=\"scvi_leiden\", resolution=0.6)\n",
    "sc.tl.umap(adata)\n",
    "sc.pl.umap(adata, color=[\"cellTypes_nmf\", \"sample\", \"scvi_leiden\"], save=\"_region_scvi.pdf\", ncols=1)"
   ]
  },
  {
   "cell_type": "markdown",
   "metadata": {},
   "source": [
    "## 空间细胞类型比例"
   ]
  },
  {
   "cell_type": "code",
   "execution_count": null,
   "metadata": {},
   "outputs": [],
   "source": [
    "adata = sc.read(\n",
    "    \"/jdfsbjcas1/ST_BJ/P21H28400N0232/gongchanghao/project/PDAC/spatial/cellbin_v3/1.1_cellbin_rawdata/filtered_data/merged_adata4.h5ad\"\n",
    ")\n",
    "matplotlib.rcParams[\"font.size\"] = 12\n",
    "matplotlib.rcParams[\"pdf.fonttype\"] = 42\n",
    "matplotlib.rcParams[\"ps.fonttype\"] = 42\n",
    "matplotlib.rcParams[\"font.serif\"] = [\"Arial\"]\n",
    "matplotlib.rcParams[\"legend.fontsize\"] = 12\n",
    "# 画celltype比例图\n",
    "filtered_data = adata.obs\n",
    "grouped = filtered_data.groupby([\"sample\", \"celltype\"]).size().unstack(\"celltype\").fillna(0)\n",
    "proportions = grouped.divide(grouped.sum(axis=1), axis=0)\n",
    "fig, axs = plt.subplots(figsize=(6, 5))\n",
    "num_colors = len(proportions.columns)\n",
    "# color_palette = getDefaultColors(num_colors, type=1)\n",
    "color_palette_fl = open(\n",
    "    \"/jdfsbjcas1/ST_BJ/P21H28400N0232/gongchanghao/project/PDAC/spatial/cellbin_v3/1.2_cellbin_spatial_plot/celltype_spatial_plot/color_celltype.list\",\n",
    "    \"r\",\n",
    ").readlines()\n",
    "color_palette = []\n",
    "for line in color_palette_fl:\n",
    "    color_palette.append(line.strip().split(\"\\t\")[1])\n",
    "proportions.plot(kind=\"bar\", stacked=True, ax=axs, color=color_palette, width=0.8)\n",
    "axs.set_title(\"Cell Type Proportions by Sample\")\n",
    "axs.set_xlabel(\"Samples\")\n",
    "axs.set_ylabel(\"Proportions\")\n",
    "axs.tick_params(axis=\"x\", labelsize=12)\n",
    "axs.legend(title=\"Cell Type\", bbox_to_anchor=(1.05, 1), loc=\"upper left\", frameon=False)\n",
    "axs.grid(False)\n",
    "plt.setp(axs.get_xticklabels(), rotation=45, ha=\"right\", rotation_mode=\"anchor\")\n",
    "fig.savefig(f\"percent_celltype_sample.pdf\", bbox_inches=\"tight\")"
   ]
  },
  {
   "cell_type": "markdown",
   "metadata": {},
   "source": [
    "## metacell  celltype DEGs"
   ]
  },
  {
   "cell_type": "code",
   "execution_count": null,
   "metadata": {},
   "outputs": [],
   "source": [
    "adata = sc.read_h5ad(\n",
    "    \"/jdfsbjcas1/ST_BJ/P21H28400N0232/gongchanghao/project/PDAC/spatial/cellbin_v3/2.1_merge_big_cell/all_merged_adata.h5adbak\"\n",
    ")"
   ]
  },
  {
   "cell_type": "code",
   "execution_count": null,
   "metadata": {},
   "outputs": [],
   "source": [
    "sc.pp.normalize_total(adata, target_sum=1e4)\n",
    "sc.pp.log1p(adata)\n",
    "adata = removeBiasGenes(adata)\n",
    "sc.tl.rank_genes_groups(adata,\n",
    "                        'celltype',\n",
    "                        method='wilcoxon',\n",
    "                        use_raw=False,\n",
    "                        # layer='norm',\n",
    "                        key_added='rank_genes_groups')\n",
    "DEG_dict = getDEG(\n",
    "    adata,\n",
    "    \"celltype\",\n",
    "    qval_cutoff=0.05,\n",
    "    mean_expr_cutoff=1,\n",
    "    #   layer='norm',\n",
    "    top_genes=200,\n",
    "    save=f\"DEG_volcano_celltype_all.png\",\n",
    ")"
   ]
  },
  {
   "cell_type": "code",
   "execution_count": null,
   "metadata": {},
   "outputs": [],
   "source": [
    "degfl = open(f\"DEG_celltype.xls\", \"w\")\n",
    "for key, value in DEG_dict.items():\n",
    "    degfl.write(key + \"\\t\" + \"\\t\".join(value) + \"\\n\")\n",
    "degfl.close()\n",
    "result = adata.uns[\"rank_genes_groups\"]\n",
    "groups = result[\"names\"].dtype.names\n",
    "df = pd.DataFrame(\n",
    "    {\n",
    "        group + \"_\" + key: result[key][group]\n",
    "        for group in groups\n",
    "        for key in [\"names\", \"logfoldchanges\", \"pvals\", \"pvals_adj\"]\n",
    "    }\n",
    ")\n",
    "df.to_csv(f\"DEG_wolcoxon_celltype.csv\")"
   ]
  },
  {
   "cell_type": "code",
   "execution_count": null,
   "metadata": {},
   "outputs": [],
   "source": [
    "color_palette_fl = open(\n",
    "    \"/jdfsbjcas1/ST_BJ/P21H28400N0232/gongchanghao/project/PDAC/spatial/cellbin_v3/1.2_cellbin_spatial_plot/celltype_spatial_plot/color_celltype.list\",\n",
    "    \"r\",\n",
    ").readlines()\n",
    "color_palette = []\n",
    "for line in color_palette_fl:\n",
    "    color_palette.append(line.strip().split(\"\\t\")[1])\n",
    "sc.settings.set_figure_params(\n",
    "    dpi=100, dpi_save=300, facecolor=\"white\", frameon=False, fontsize=12, vector_friendly=True, figsize=(3, 3)\n",
    ")\n",
    "sc.pl.rank_genes_groups_stacked_violin(\n",
    "    adata,\n",
    "    n_genes=5,\n",
    "    #    cmap='viridis_r',\n",
    "    row_palette=color_palette,\n",
    "    save=\"celltype_deg.pdf\",\n",
    "    swap_axis=True,\n",
    "    dendrogram=False,\n",
    ")"
   ]
  },
  {
   "cell_type": "code",
   "execution_count": null,
   "metadata": {},
   "outputs": [],
   "source": [
    "sc.pl.rank_genes_groups_dotplot(\n",
    "    adata,\n",
    "    n_genes=5,\n",
    "    dendrogram=False,\n",
    "    color_map=\"viridis_r\",\n",
    "    swap_axes=False,\n",
    "    standard_scale=\"var\",\n",
    "    save=\"DEG_celltype.pdf\",\n",
    ")"
   ]
  }
 ],
 "metadata": {
  "language_info": {
   "name": "python"
  }
 },
 "nbformat": 4,
 "nbformat_minor": 2
}
